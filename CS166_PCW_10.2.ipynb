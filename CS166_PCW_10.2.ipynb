{
 "cells": [
  {
   "cell_type": "code",
   "execution_count": 43,
   "metadata": {},
   "outputs": [],
   "source": [
    "import random as rd\n",
    "import scipy\n"
   ]
  },
  {
   "cell_type": "code",
   "execution_count": 65,
   "metadata": {},
   "outputs": [],
   "source": [
    "def waiting_bus(lamda,t):\n",
    "    waiting_time = []\n",
    "    for _ in range(1000):\n",
    "        choices = list(range(int(t*60/lamda)))\n",
    "        student = rd.choice(choices)\n",
    "        for i in range(int(t*60/lamda)):\n",
    "            if rd.random() < 1/60:\n",
    "                bus = i\n",
    "        time = bus - student\n",
    "        waiting_time.append(time) if time > 0 else 0\n",
    "#     print(waiting_time)\n",
    "    return(sum(waiting_time)/len(waiting_time)/60)\n",
    "    "
   ]
  },
  {
   "cell_type": "code",
   "execution_count": 66,
   "metadata": {},
   "outputs": [
    {
     "data": {
      "text/plain": [
       "9.5897695035461"
      ]
     },
     "execution_count": 66,
     "metadata": {},
     "output_type": "execute_result"
    }
   ],
   "source": [
    "waiting_bus(1/10,2)"
   ]
  },
  {
   "cell_type": "code",
   "execution_count": 74,
   "metadata": {},
   "outputs": [],
   "source": [
    "data = {\n",
    "50: 0.00832, 51: 0.00911, 52: 0.00996, 53: 0.01089, 54: 0.01190,\n",
    "55: 0.01300, 56: 0.01421, 57: 0.01554, 58: 0.01700, 59: 0.01859,\n",
    "60: 0.02034, 61: 0.02224, 62: 0.02431, 63: 0.02657, 64: 0.02904,\n",
    "65: 0.03175, 66: 0.03474, 67: 0.03804, 68: 0.04168, 69: 0.04561,\n",
    "70: 0.04979, 71: 0.05415, 72: 0.05865, 73: 0.06326, 74: 0.06812,\n",
    "75: 0.07337, 76: 0.07918, 77: 0.08570, 78: 0.09306, 79: 0.10119,\n",
    "80: 0.10998, 81: 0.11935, 82: 0.12917, 83: 0.13938, 84: 0.15001,\n",
    "85: 0.16114, 86: 0.17282, 87: 0.18513, 88: 0.19825, 89: 0.21246,\n",
    "90: 0.22814, 91: 0.24577, 92: 0.26593, 93: 0.28930, 94: 0.31666,\n",
    "95: 0.35124, 96: 0.40056, 97: 0.48842, 98: 0.66815, 99: 0.72000,\n",
    "100: 0.76000, 101: 0.80000, 102: 0.85000, 103: 0.90000,\n",
    "104: 0.96000, 105: 1.00000}"
   ]
  },
  {
   "cell_type": "code",
   "execution_count": 186,
   "metadata": {},
   "outputs": [
    {
     "data": {
      "image/png": "[encoded data removed]",
      "text/plain": [
       "<Figure size 864x576 with 1 Axes>"
      ]
     },
     "metadata": {
      "needs_background": "light"
     },
     "output_type": "display_data"
    }
   ],
   "source": [
    "import scipy.stats as sts\n",
    "import random\n",
    "import matplotlib.pyplot as plt\n",
    "balance = []\n",
    "age_list = []\n",
    "for loop in range(1000):\n",
    "    investment = 150000\n",
    "    for age in range(50,106):\n",
    "        if rd.random() < data[age]:\n",
    "            death = age\n",
    "            break\n",
    "    age_list.append(death)\n",
    "    invest_year = min(death - 50, 20)\n",
    "    for i in range(death - 50):\n",
    "        rate = sts.norm.rvs(0.08,0.09,size = 1)\n",
    "        investment *= (1+rate)\n",
    "        investment +=10000\n",
    "    withdraw_year = max(0,death - 70)\n",
    "    for i in range(withdraw_year):\n",
    "        rate = sts.norm.rvs(0.08,0.09, size = 1)\n",
    "        investment *= (1+rate)\n",
    "        investment -=65000\n",
    "    balance.append(float(investment))\n",
    "#     print(age,investment)\n",
    "\n",
    "plt.figure(figsize = (12,8))\n",
    "plt.hist(balance,bins = [i for i in range(0,5000000,200000)])\n",
    "# plt.xticks([i for i in range(0,30000000,200000)])\n",
    "# plt.xlim(0,3000000)\n",
    "plt.show()\n"
   ]
  },
  {
   "cell_type": "code",
   "execution_count": 173,
   "metadata": {},
   "outputs": [
    {
     "data": {
      "text/plain": [
       "309093971.92814404"
      ]
     },
     "execution_count": 173,
     "metadata": {},
     "output_type": "execute_result"
    }
   ],
   "source": [
    "max(balance)"
   ]
  },
  {
   "cell_type": "code",
   "execution_count": 123,
   "metadata": {},
   "outputs": [
    {
     "data": {
      "text/plain": [
       "array([0.09674719])"
      ]
     },
     "execution_count": 123,
     "metadata": {},
     "output_type": "execute_result"
    }
   ],
   "source": [
    "sts.norm.rvs(0.08,0.09,1)"
   ]
  },
  {
   "cell_type": "code",
   "execution_count": 145,
   "metadata": {},
   "outputs": [
    {
     "data": {
      "text/plain": [
       "(array([  8.,  36.,  83., 149., 212., 216., 155.,  92.,  32.,  17.]),\n",
       " array([-0.16993972, -0.11967796, -0.06941619, -0.01915443,  0.03110734,\n",
       "         0.0813691 ,  0.13163086,  0.18189263,  0.23215439,  0.28241616,\n",
       "         0.33267792]),\n",
       " <a list of 10 Patch objects>)"
      ]
     },
     "execution_count": 145,
     "metadata": {},
     "output_type": "execute_result"
    },
    {
     "data": {
      "image/png": "[encoded data removed]",
      "text/plain": [
       "<Figure size 432x288 with 1 Axes>"
      ]
     },
     "metadata": {
      "needs_background": "light"
     },
     "output_type": "display_data"
    }
   ],
   "source": [
    "rate = sts.norm.rvs(0.08,0.09,size = 1000)\n",
    "plt.hist(rate)\n",
    "# print(rate,150000*(1+rate))"
   ]
  },
  {
   "cell_type": "code",
   "execution_count": 144,
   "metadata": {},
   "outputs": [
    {
     "data": {
      "text/plain": [
       "1000"
      ]
     },
     "execution_count": 144,
     "metadata": {},
     "output_type": "execute_result"
    }
   ],
   "source": [
    "len(rate)"
   ]
  },
  {
   "cell_type": "code",
   "execution_count": null,
   "metadata": {},
   "outputs": [],
   "source": []
  }
 ],
 "metadata": {
  "kernelspec": {
   "display_name": "Python 3",
   "language": "python",
   "name": "python3"
  },
  "language_info": {
   "codemirror_mode": {
    "name": "ipython",
    "version": 3
   },
   "file_extension": ".py",
   "mimetype": "text/x-python",
   "name": "python",
   "nbconvert_exporter": "python",
   "pygments_lexer": "ipython3",
   "version": "3.7.4"
  }
 },
 "nbformat": 4,
 "nbformat_minor": 2
}
