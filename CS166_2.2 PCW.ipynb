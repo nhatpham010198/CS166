{
 "cells": [
  {
   "cell_type": "code",
   "execution_count": 33,
   "metadata": {},
   "outputs": [
    {
     "data": {
      "image/png": "[encoded data removed]",
      "text/plain": [
       "<Figure size 432x288 with 1 Axes>"
      ]
     },
     "metadata": {
      "needs_background": "light"
     },
     "output_type": "display_data"
    }
   ],
   "source": [
    "import matplotlib\n",
    "# matplotlib.use('TkAgg')\n",
    "from pylab import *\n",
    "\n",
    "n = 100 # size of space: n x n\n",
    "p = 0.1 # probability of initially panicky individuals\n",
    "\n",
    "def initialize():\n",
    "    global config, nextconfig\n",
    "    config = zeros([n, n])\n",
    "    for x in range(n):\n",
    "        for y in range(n):\n",
    "            config[x, y] = 1 if random() < p else 0\n",
    "    nextconfig = zeros([n, n])\n",
    "    \n",
    "def observe():\n",
    "    global config, nextconfig\n",
    "    cla()\n",
    "    imshow(config, vmin = 0, vmax = 1, cmap = cm.binary)\n",
    "\n",
    "def update():\n",
    "    global config, nextconfig\n",
    "    for x in range(n):\n",
    "        for y in range(n):\n",
    "            count = 0\n",
    "            for dx in [-1, 0, 1]:\n",
    "                for dy in [-1, 0, 1]:\n",
    "                    count += config[(x + dx) % n, (y + dy) % n]\n",
    "            nextconfig[x, y] = 1 if count >= 4 else 0\n",
    "    config, nextconfig = nextconfig, config\n",
    "\n",
    "# import pycxsimulator\n",
    "# pycxsimulator.GUI().start(func=[initialize, observe, update])\n",
    "%matplotlib inline\n",
    "initialize()\n",
    "for i in range(10):\n",
    "    update()\n",
    "    observe()"
   ]
  },
  {
   "cell_type": "code",
   "execution_count": 62,
   "metadata": {},
   "outputs": [
    {
     "data": {
      "text/plain": [
       "[<matplotlib.lines.Line2D at 0x115a10150>]"
      ]
     },
     "execution_count": 62,
     "metadata": {},
     "output_type": "execute_result"
    },
    {
     "data": {
      "image/png": "[encoded data removed]",
      "text/plain": [
       "<Figure size 432x288 with 1 Axes>"
      ]
     },
     "metadata": {
      "needs_background": "light"
     },
     "output_type": "display_data"
    }
   ],
   "source": [
    "import matplotlib\n",
    "# matplotlib.use('TkAgg')\n",
    "import pylab as pylab\n",
    "\n",
    "n = 100 # size of space: n x n\n",
    "p = 0.1 # probability of initially panicky individuals\n",
    "\n",
    "def initialize():\n",
    "    global config, nextconfig, density\n",
    "    density = list()\n",
    "    config = zeros([n, n])\n",
    "    for x in range(n):\n",
    "        for y in range(n):\n",
    "            config[x, y] = 1 if random() < p else 0\n",
    "    nextconfig = zeros([n, n])\n",
    "    \n",
    "def observe():\n",
    "    global config, nextconfig, density\n",
    "    density.append(sum(config))\n",
    "    cla()\n",
    "#     imshow(config, vmin = 0, vmax = 1, cmap = cm.binary)\n",
    "\n",
    "def update():\n",
    "    global config, nextconfig, density\n",
    "    for x in range(n):\n",
    "        for y in range(n):\n",
    "            count = 0\n",
    "            for dx in [-1, 0, 1]:\n",
    "                for dy in [-1, 0, 1]:\n",
    "                    count += config[(x + dx) % n, (y + dy) % n]\n",
    "            nextconfig[x, y] = 1 if count >= 4 else 0\n",
    "    config, nextconfig = nextconfig, config\n",
    "\n",
    "\n",
    "initialize()\n",
    "\n",
    "x=[]\n",
    "for i in range(10):\n",
    "    x.append(i)\n",
    "    update()\n",
    "    observe()\n",
    "\n",
    "pylab.subplot(1,2,2)\n",
    "pylab.plot()\n",
    "plt.plot(x,density)\n"
   ]
  },
  {
   "cell_type": "code",
   "execution_count": 63,
   "metadata": {},
   "outputs": [
    {
     "data": {
      "image/png": "[encoded data removed]",
      "text/plain": [
       "<Figure size 432x288 with 1 Axes>"
      ]
     },
     "metadata": {
      "needs_background": "light"
     },
     "output_type": "display_data"
    }
   ],
   "source": [
    "import matplotlib\n",
    "# matplotlib.use('TkAgg')\n",
    "from pylab import *\n",
    "\n",
    "\n",
    "\n",
    "\n",
    "def initialize(size,prob):\n",
    "    global config, nextconfig, density, n, p\n",
    "    n = size\n",
    "    p = prob\n",
    "    density = list()\n",
    "    config = zeros([n, n])\n",
    "    for x in range(n):\n",
    "        for y in range(n):\n",
    "            config[x, y] = 1 if random() < p else 0\n",
    "    nextconfig = zeros([n, n])\n",
    "    \n",
    "def observe():\n",
    "    global config, nextconfig, density, n, p\n",
    "    density.append(sum(config))\n",
    "    cla()\n",
    "    imshow(config, vmin = 0, vmax = 1, cmap = cm.binary)\n",
    "\n",
    "def update():\n",
    "    global config, nextconfig, density, n, p\n",
    "    for x in range(n):\n",
    "        for y in range(n):\n",
    "            count = 0\n",
    "            for dx in [-1, 0, 1]:\n",
    "                for dy in [-1, 0, 1]:\n",
    "                    count += config[(x + dx) % n, (y + dy) % n]\n",
    "            nextconfig[x, y] = 1 if count >= 4 else 0\n",
    "    config, nextconfig = nextconfig, config\n",
    "\n",
    "\n",
    "\n",
    "%matplotlib inline\n",
    "import numpy as np\n",
    "p = 0.1\n",
    "while p < 0.4:\n",
    "    initialize(100,p)\n",
    "    for i in range(10):\n",
    "        update()\n",
    "        observe()\n",
    "    p+=0.1"
   ]
  },
  {
   "cell_type": "code",
   "execution_count": null,
   "metadata": {},
   "outputs": [],
   "source": []
  }
 ],
 "metadata": {
  "kernelspec": {
   "display_name": "Python 3",
   "language": "python",
   "name": "python3"
  },
  "language_info": {
   "codemirror_mode": {
    "name": "ipython",
    "version": 3
   },
   "file_extension": ".py",
   "mimetype": "text/x-python",
   "name": "python",
   "nbconvert_exporter": "python",
   "pygments_lexer": "ipython3",
   "version": "3.7.4"
  }
 },
 "nbformat": 4,
 "nbformat_minor": 2
}
