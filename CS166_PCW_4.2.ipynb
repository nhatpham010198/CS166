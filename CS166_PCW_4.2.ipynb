{
 "cells": [
  {
   "cell_type": "markdown",
   "metadata": {},
   "source": [
    "### Task: Run and analyze an existing cellular automaton\n",
    "\n",
    "* The code below implements the traffic simulator you saw in the previous activity.\n",
    "* We use Sayama's pycxsimulator library to step through the cellular automaton simulation, which means that you can run this same code on your own computer.\n",
    "* Run the code below.\n"
   ]
  },
  {
   "cell_type": "code",
   "execution_count": 18,
   "metadata": {},
   "outputs": [],
   "source": [
    "interactive = False  # Set this variable to True to run an interactive\n",
    "                     # simulator. This will not work on CoCalc.\n",
    "\n",
    "import matplotlib\n",
    "\n",
    "\n",
    "import pylab\n",
    "import random\n",
    "import numpy as np\n",
    "import random as rd\n",
    "import matplotlib.pyplot as plt"
   ]
  },
  {
   "cell_type": "code",
   "execution_count": 4,
   "metadata": {},
   "outputs": [
    {
     "name": "stdout",
     "output_type": "stream",
     "text": [
      "[1, 0, 0, 0, 0, 0, 0, 0, 0, 0, 0, 0, 0, 0, 0, 0, 0, 0, 0, 0, 0, 0, 0, 0, 0, 0, 0, 0, 0, 0, 0, 0, 0, 0, 0, 0, 0, 0, 0, 0, 0, 0, 0, 0, 0, 0, 0, 0, 0, 0, 0, 0, 0, 0, 0, 0, 0, 0, 0, 0, 0, 0, 0, 0, 0, 0, 0, 0, 0, 0, 0, 0, 0, 0, 0, 0, 0, 0, 0, 0, 0, 0, 0, 0, 0, 0, 0, 0, 0, 0, 0, 0, 0, 0, 0, 0, 0, 0, 0, 0]\n"
     ]
    }
   ],
   "source": [
    "a = list([0]*100)\n",
    "a[0] =1\n",
    "print(a)"
   ]
  },
  {
   "cell_type": "code",
   "execution_count": 58,
   "metadata": {},
   "outputs": [],
   "source": [
    "class TrafficSimulator(object):\n",
    "\n",
    "    # Mapping from the current state of a cell's neighborhood to the next state\n",
    "    # of the cell. This corresponds to Wolfram's Rule 184.\n",
    "\n",
    "    def __init__(self, length=50, density=0.2, interactive=False, pdown = 0.1, v_max = 5):\n",
    "\n",
    "        self.interactive = interactive\n",
    "        self.length = length\n",
    "        self.density = density\n",
    "        self.v_max = v_max\n",
    "        self.pdown = pdown\n",
    "        self.count = 0\n",
    "\n",
    "\n",
    "\n",
    "        # Arrays for storing the current state and the next state (when we are\n",
    "        # busy doing a state update).\n",
    "        self.current_state = list([0]*self.length)\n",
    "        self.next_state = list([0]*self.length)\n",
    "\n",
    "    def initialize(self):\n",
    "        '''\n",
    "        This will be called by the interactive pycxsimulator whenever the Reset\n",
    "        button is clicked.\n",
    "        '''\n",
    "        # Set up a random initial state where the fraction of 1s in the array\n",
    "        # equals the density parameter.\n",
    "#         np.random.seed(30)\n",
    "        random_indices = np.random.choice(\n",
    "            range(self.length),\n",
    "            size=int(round((1-self.density) * self.length)),\n",
    "            replace=False)\n",
    "        for i in random_indices:\n",
    "            self.current_state[i] = -1\n",
    "            self.next_state[i] = -1\n",
    "        \n",
    "\n",
    "        self.time = 0\n",
    "\n",
    "    def draw(self):\n",
    "        '''\n",
    "        Draw the current state of the cellular automaton.\n",
    "        '''\n",
    "        print(''.join('.' if x == -1 else str(int(x)) for x in self.current_state))\n",
    "\n",
    "\n",
    "    def step(self):\n",
    "        '''\n",
    "        Update the state of the cellular automaton.\n",
    "        '''\n",
    "        # Update all cells, except the boundaries.\n",
    "        self.next_state = np.zeros(self.length)\n",
    "        self.next_state.fill(-1)\n",
    "#         print('sdfsadfsafasfas', self.current_state)\n",
    "        for i in range(0, self.length):\n",
    "\n",
    "            if self.current_state[i] == -1:\n",
    "                pass\n",
    "            else:\n",
    "                new_speed = self.current_state[i]\n",
    "                space = 0\n",
    "                #find space\n",
    "                for j in range(1,7):\n",
    "                    if self.current_state[(i+j)%self.length] == -1:\n",
    "                        space += 1\n",
    "                    else:\n",
    "                        space += 1\n",
    "                        break\n",
    "                \n",
    "\n",
    "                    #remain max speed\n",
    "                if self.current_state[i] == self.v_max and space > self.v_max:\n",
    "                    new_speed = self.current_state[i]\n",
    "\n",
    "                    #accelerate\n",
    "                elif self.current_state[i] < self.v_max:\n",
    "                    if space > self.current_state[i] + 1:\n",
    "                        new_speed = self.current_state[i] + 1\n",
    "                    #decelerate\n",
    "                    elif space == self.current_state[i] + 1: \n",
    "                        new_speed = self.current_state[i]\n",
    "                    elif space <= self.current_state[i] and new_speed > 0:\n",
    "                        new_speed =  space - 1\n",
    "                    #randomized slowing down\n",
    "                if rd.random() <= self.pdown and self.current_state[i] > 0:\n",
    "                    new_speed = self.current_state[i] - 1\n",
    "                #print(i, self.current_state[i], space, new_speed)\n",
    "            #update vehicles\n",
    "#                 self.next_state[i] = -1\n",
    "                self.next_state[int(i+new_speed)%self.length] = new_speed\n",
    "                \n",
    "                if i+new_speed >= self.length:\n",
    "                    self.count += 1\n",
    "                #print('current state isss:', self.current_state)\n",
    "                #print('self.next_state isssssssss', self.next_state)\n",
    "\n",
    "        #assign next state to current state\n",
    "        self.current_state, self.next_state = self.next_state, self.current_state \n",
    "        self.time += 1\n",
    "        #return(self.current_state)\n",
    "\n",
    "#         self.current_state, self.next_state = self.next_state, self.current_state\n",
    "#         self.time += 1\n"
   ]
  },
  {
   "cell_type": "code",
   "execution_count": 59,
   "metadata": {},
   "outputs": [
    {
     "name": "stdout",
     "output_type": "stream",
     "text": [
      "Initial state:\n",
      "Next 100 states:\n",
      ".20.....3.\n",
      "0.56\n"
     ]
    }
   ],
   "source": [
    "sim = TrafficSimulator(density=0.3,length = 10, v_max = 5 ,interactive=interactive)\n",
    "\n",
    "\n",
    "\n",
    "    # Run the simulator for 100 steps and show some of the steps.:\n",
    "print('Initial state:')\n",
    "sim.initialize()\n",
    "# sim.step()\n",
    "# sim.draw()\n",
    "# print(sim.current_state)\n",
    "\n",
    "print('Next 100 states:')\n",
    "for i in range(100):\n",
    "#     print('current state isss:', sim.current_state)\n",
    "    sim.step()\n",
    "#     print(\"sim.next_state isssss\",sim.next_state)\n",
    "sim.draw()\n",
    "print(sim.count/100)\n",
    "\n",
    "#     print('After 100 steps:')\n",
    "#     for i in range(95):\n",
    "#         sim.step()\n",
    "#     sim.draw()\n"
   ]
  },
  {
   "cell_type": "code",
   "execution_count": 50,
   "metadata": {},
   "outputs": [
    {
     "data": {
      "text/plain": [
       "[<matplotlib.lines.Line2D at 0x1180dc3d0>]"
      ]
     },
     "execution_count": 50,
     "metadata": {},
     "output_type": "execute_result"
    },
    {
     "data": {
      "image/png": "[encoded data removed]",
      "text/plain": [
       "<Figure size 432x288 with 1 Axes>"
      ]
     },
     "metadata": {
      "needs_background": "light"
     },
     "output_type": "display_data"
    }
   ],
   "source": [
    "potential_density = [i/10 for i in range(1,11,1)]\n",
    "density = []\n",
    "flow = []\n",
    "ave_flow = []\n",
    "for p in potential_density: #try various values of density 100 times\n",
    "    density += [p]*100 #x axis of the scatter plot. *100 as we simulates every 100 steps 100 times\n",
    "    for _ in range(100):\n",
    "        sim = TrafficSimulator(density=p,length = 10, interactive=interactive)\n",
    "        sim.initialize()\n",
    "        sim.count = 0\n",
    "        for i in range(100):\n",
    "            sim.step()\n",
    "        flow.append(sim.count/100)\n",
    "    ave_flow.append(sum(flow[-100:])/100)\n",
    "\n",
    "plt.scatter(density,flow)\n",
    "plt.plot(potential_density,ave_flow)"
   ]
  },
  {
   "cell_type": "code",
   "execution_count": 48,
   "metadata": {},
   "outputs": [
    {
     "data": {
      "text/plain": [
       "[4, 5, 5]"
      ]
     },
     "execution_count": 48,
     "metadata": {},
     "output_type": "execute_result"
    }
   ],
   "source": [
    "a = [2,3,4,5,5]\n",
    "a[-3:]"
   ]
  },
  {
   "cell_type": "code",
   "execution_count": null,
   "metadata": {},
   "outputs": [],
   "source": []
  }
 ],
 "metadata": {
  "kernelspec": {
   "display_name": "Python 3",
   "language": "python",
   "name": "python3"
  },
  "language_info": {
   "codemirror_mode": {
    "name": "ipython",
    "version": 3
   },
   "file_extension": ".py",
   "mimetype": "text/x-python",
   "name": "python",
   "nbconvert_exporter": "python",
   "pygments_lexer": "ipython3",
   "version": "3.7.4"
  }
 },
 "nbformat": 4,
 "nbformat_minor": 1
}
