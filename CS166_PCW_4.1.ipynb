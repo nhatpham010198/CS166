{
 "cells": [
  {
   "cell_type": "markdown",
   "metadata": {},
   "source": [
    "### Task: Run and analyze an existing cellular automaton\n",
    "\n",
    "* The code below implements the traffic simulator you saw in the previous activity.\n",
    "* We use Sayama's pycxsimulator library to step through the cellular automaton simulation, which means that you can run this same code on your own computer.\n",
    "* Run the code below.\n"
   ]
  },
  {
   "cell_type": "code",
   "execution_count": 35,
   "metadata": {},
   "outputs": [],
   "source": [
    "interactive = False  # Set this variable to True to run an interactive\n",
    "                     # simulator. This will not work on CoCalc.\n",
    "\n",
    "import matplotlib\n",
    "\n",
    "\n",
    "import pylab\n",
    "import random\n",
    "import numpy as np\n",
    "import random as rd"
   ]
  },
  {
   "cell_type": "code",
   "execution_count": 56,
   "metadata": {},
   "outputs": [
    {
     "name": "stdout",
     "output_type": "stream",
     "text": [
      "[1, 0, 0, 0, 0, 0, 0, 0, 0, 0, 0, 0, 0, 0, 0, 0, 0, 0, 0, 0, 0, 0, 0, 0, 0, 0, 0, 0, 0, 0, 0, 0, 0, 0, 0, 0, 0, 0, 0, 0, 0, 0, 0, 0, 0, 0, 0, 0, 0, 0, 0, 0, 0, 0, 0, 0, 0, 0, 0, 0, 0, 0, 0, 0, 0, 0, 0, 0, 0, 0, 0, 0, 0, 0, 0, 0, 0, 0, 0, 0, 0, 0, 0, 0, 0, 0, 0, 0, 0, 0, 0, 0, 0, 0, 0, 0, 0, 0, 0, 0]\n"
     ]
    }
   ],
   "source": [
    "a = list([0]*100)\n",
    "a[0] =1\n",
    "print(a)"
   ]
  },
  {
   "cell_type": "code",
   "execution_count": 103,
   "metadata": {},
   "outputs": [],
   "source": [
    "class TrafficSimulator(object):\n",
    "\n",
    "    # Mapping from the current state of a cell's neighborhood to the next state\n",
    "    # of the cell. This corresponds to Wolfram's Rule 184.\n",
    "\n",
    "    def __init__(self, length=50, density=0.2, interactive=False, pdown = 0.3, v_max = 5):\n",
    "\n",
    "        self.interactive = interactive\n",
    "        self.length = length\n",
    "        self.density = density\n",
    "        self.v_max = v_max\n",
    "        self.pdown = pdown\n",
    "\n",
    "\n",
    "\n",
    "        # Arrays for storing the current state and the next state (when we are\n",
    "        # busy doing a state update).\n",
    "        self.current_state = list([0]*self.length)\n",
    "        self.next_state = list([0]*self.length)\n",
    "\n",
    "    def initialize(self):\n",
    "        '''\n",
    "        This will be called by the interactive pycxsimulator whenever the Reset\n",
    "        button is clicked.\n",
    "        '''\n",
    "        # Set up a random initial state where the fraction of 1s in the array\n",
    "        # equals the density parameter.\n",
    "        random_indices = np.random.choice(\n",
    "            range(self.length),\n",
    "            size=int(round((1-self.density) * self.length)),\n",
    "            replace=False)\n",
    "        for i in random_indices:\n",
    "            self.current_state[i] = -1\n",
    "\n",
    "        self.time = 0\n",
    "\n",
    "    def draw(self):\n",
    "        '''\n",
    "        Draw the current state of the cellular automaton.\n",
    "        '''\n",
    "        print(''.join('.' if x == -1 else str(x) for x in self.current_state))\n",
    "#         if self.interactive:\n",
    "#             pylab.cla()  # Clear the current figure\n",
    "#         else:\n",
    "#             pylab.figure()  # Create a new figure\n",
    "#         pylab.pcolor(\n",
    "#             self.current_state.reshape((1, self.length)),\n",
    "#             vmin = 0,\n",
    "#             vmax = self.v_max,\n",
    "#             cmap = pylab.cm.binary)\n",
    "#         pylab.axis('image')\n",
    "#         pylab.title('density = ' + str(self.density) + '; t = ' + str(self.time))\n",
    "#         if not self.interactive:\n",
    "#             pylab.show()\n",
    "\n",
    "    def step(self):\n",
    "        '''\n",
    "        Update the state of the cellular automaton.\n",
    "        '''\n",
    "        # Update all cells, except the boundaries.\n",
    "        for i in range(0, self.length - 1):\n",
    "            new_speed = 0\n",
    "            space = 0\n",
    "            if self.current_state[i] == -1:\n",
    "                pass\n",
    "            else:\n",
    "                #find \n",
    "                for j in range(1,6):\n",
    "                    if self.current_state[i+j] == -1:\n",
    "                        space += 1\n",
    "                    else:\n",
    "                        space += 1\n",
    "                        break\n",
    "                if rd.random() <= self.pdown:\n",
    "                    new_speed = self.current_state[i] - 1\n",
    "                #remain max speed\n",
    "                else:\n",
    "                    #remain max speed\n",
    "                    if self.current_state[i] == self.v_max and space > self.v_max:\n",
    "                        new_speed = self.current_state[i]\n",
    "\n",
    "                    #accelerate\n",
    "                    elif self.current_state[i] < self.v_max:\n",
    "                        if space > self.current_state[i] + 1:\n",
    "                            new_speed = self.current_state[i] + 1\n",
    "                        else:\n",
    "                            new_speed = self.current_state[i]\n",
    "                    #decelerate\n",
    "                    elif space < self.current_state[i]:\n",
    "                        new_speed =  space - 1\n",
    "                    print(i, self.current_state[i], space, new_speed)    \n",
    "#             distance = new_speed\n",
    "            self.next_state[(i+new_speed)//self.length] = new_speed\n",
    "            self.next_state[i] = -1            \n",
    "\n",
    "        self.current_state, self.next_state = self.next_state, self.current_state\n",
    "        self.time += 1\n",
    "\n",
    "    def set_density(self, value=None):\n",
    "        '''\n",
    "        The density of cars on the road. Only affects initialization (reset) of\n",
    "        the simulation. The density must be a value between 0 and 1.\n",
    "        '''\n",
    "        if value is not None:\n",
    "            self.density = min(1, max(0, float(value)))\n",
    "        return self.density"
   ]
  },
  {
   "cell_type": "code",
   "execution_count": 104,
   "metadata": {},
   "outputs": [
    {
     "name": "stdout",
     "output_type": "stream",
     "text": [
      "Initial state:\n",
      ".0..0..00.......000......0.00.00...0..0.0..00..000\n",
      "Next 5 states:\n",
      "1 0 3 1\n",
      "4 0 3 1\n",
      "7 0 1 0\n",
      "8 0 5 1\n",
      "17 0 1 0\n",
      "25 0 2 1\n",
      "27 0 1 0\n",
      "28 0 2 1\n",
      "30 0 1 0\n",
      "31 0 4 1\n",
      "35 0 3 1\n",
      "40 0 3 1\n",
      "43 0 1 0\n",
      "44 0 3 1\n",
      "47 0 1 0\n",
      ".................................................0\n",
      "\n",
      "0................................................0\n",
      "\n",
      "0 0 5 1\n",
      "0................................................0\n",
      "\n",
      "0.................................................\n",
      "\n",
      "0 0 5 1\n",
      "0................................................0\n",
      "\n"
     ]
    }
   ],
   "source": [
    "sim = TrafficSimulator(density=0.4,length = 50, interactive=interactive)\n",
    "\n",
    "\n",
    "\n",
    "    # Run the simulator for 100 steps and show some of the steps.:\n",
    "print('Initial state:')\n",
    "sim.initialize()\n",
    "sim.draw()\n",
    "\n",
    "print('Next 5 states:')\n",
    "for i in range(5):\n",
    "    sim.step()\n",
    "    sim.draw()\n",
    "    print('')\n",
    "\n",
    "#     print('After 100 steps:')\n",
    "#     for i in range(95):\n",
    "#         sim.step()\n",
    "#     sim.draw()\n"
   ]
  },
  {
   "cell_type": "code",
   "execution_count": 4,
   "metadata": {},
   "outputs": [
    {
     "name": "stdout",
     "output_type": "stream",
     "text": [
      "Initial state:\n"
     ]
    },
    {
     "data": {
      "image/png": "[encoded data removed]",
      "text/plain": [
       "<Figure size 432x288 with 1 Axes>"
      ]
     },
     "execution_count": 4,
     "metadata": {
      "image/png": {
       "height": 53,
       "width": 369
      },
      "needs_background": "light"
     },
     "output_type": "execute_result"
    },
    {
     "name": "stdout",
     "output_type": "stream",
     "text": [
      "Next 5 states:\n"
     ]
    },
    {
     "data": {
      "image/png": "[encoded data removed]",
      "text/plain": [
       "<Figure size 432x288 with 1 Axes>"
      ]
     },
     "execution_count": 4,
     "metadata": {
      "image/png": {
       "height": 53,
       "width": 369
      },
      "needs_background": "light"
     },
     "output_type": "execute_result"
    },
    {
     "name": "stdout",
     "output_type": "stream",
     "text": [
      "\n"
     ]
    },
    {
     "data": {
      "image/png": "[encoded data removed]",
      "text/plain": [
       "<Figure size 432x288 with 1 Axes>"
      ]
     },
     "execution_count": 4,
     "metadata": {
      "image/png": {
       "height": 53,
       "width": 369
      },
      "needs_background": "light"
     },
     "output_type": "execute_result"
    },
    {
     "name": "stdout",
     "output_type": "stream",
     "text": [
      "\n"
     ]
    },
    {
     "data": {
      "image/png": "[encoded data removed]",
      "text/plain": [
       "<Figure size 432x288 with 1 Axes>"
      ]
     },
     "execution_count": 4,
     "metadata": {
      "image/png": {
       "height": 53,
       "width": 369
      },
      "needs_background": "light"
     },
     "output_type": "execute_result"
    },
    {
     "name": "stdout",
     "output_type": "stream",
     "text": [
      "\n"
     ]
    },
    {
     "data": {
      "image/png": "[encoded data removed]",
      "text/plain": [
       "<Figure size 432x288 with 1 Axes>"
      ]
     },
     "execution_count": 4,
     "metadata": {
      "image/png": {
       "height": 53,
       "width": 369
      },
      "needs_background": "light"
     },
     "output_type": "execute_result"
    },
    {
     "name": "stdout",
     "output_type": "stream",
     "text": [
      "\n"
     ]
    },
    {
     "data": {
      "image/png": "[encoded data removed]",
      "text/plain": [
       "<Figure size 432x288 with 1 Axes>"
      ]
     },
     "execution_count": 4,
     "metadata": {
      "image/png": {
       "height": 53,
       "width": 369
      },
      "needs_background": "light"
     },
     "output_type": "execute_result"
    },
    {
     "name": "stdout",
     "output_type": "stream",
     "text": [
      "\n",
      "After 100 steps:\n"
     ]
    },
    {
     "data": {
      "image/png": "[encoded data removed]",
      "text/plain": [
       "<Figure size 432x288 with 1 Axes>"
      ]
     },
     "execution_count": 4,
     "metadata": {
      "image/png": {
       "height": 53,
       "width": 369
      },
      "needs_background": "light"
     },
     "output_type": "execute_result"
    }
   ],
   "source": [
    "sim = TrafficSimulator(density=0.5, interactive=interactive)\n",
    "\n",
    "if interactive:\n",
    "    # Set up the interactive user interface.\n",
    "    import pycxsimulator\n",
    "    gui = pycxsimulator.GUI(parameterSetters=[sim.set_density])\n",
    "    gui.start(func=[sim.initialize, sim.draw, sim.step])\n",
    "\n",
    "else:\n",
    "    # Run the simulator for 100 steps and show some of the steps.\n",
    "    print('Initial state:')\n",
    "    sim.initialize()\n",
    "    sim.draw()\n",
    "\n",
    "    print('Next 5 states:')\n",
    "    for i in range(5):\n",
    "        sim.step()\n",
    "        sim.draw()\n",
    "        print('')\n",
    "\n",
    "    print('After 100 steps:')\n",
    "    for i in range(95):\n",
    "        sim.step()\n",
    "    sim.draw()\n"
   ]
  },
  {
   "cell_type": "code",
   "execution_count": 5,
   "metadata": {},
   "outputs": [
    {
     "name": "stdout",
     "output_type": "stream",
     "text": [
      "Initial state:\n"
     ]
    },
    {
     "data": {
      "image/png": "[encoded data removed]",
      "text/plain": [
       "<Figure size 432x288 with 1 Axes>"
      ]
     },
     "execution_count": 5,
     "metadata": {
      "image/png": {
       "height": 53,
       "width": 369
      },
      "needs_background": "light"
     },
     "output_type": "execute_result"
    },
    {
     "name": "stdout",
     "output_type": "stream",
     "text": [
      "Next 5 states:\n"
     ]
    },
    {
     "data": {
      "image/png": "[encoded data removed]",
      "text/plain": [
       "<Figure size 432x288 with 1 Axes>"
      ]
     },
     "execution_count": 5,
     "metadata": {
      "image/png": {
       "height": 53,
       "width": 369
      },
      "needs_background": "light"
     },
     "output_type": "execute_result"
    },
    {
     "name": "stdout",
     "output_type": "stream",
     "text": [
      "\n"
     ]
    },
    {
     "data": {
      "image/png": "[encoded data removed]",
      "text/plain": [
       "<Figure size 432x288 with 1 Axes>"
      ]
     },
     "execution_count": 5,
     "metadata": {
      "image/png": {
       "height": 53,
       "width": 369
      },
      "needs_background": "light"
     },
     "output_type": "execute_result"
    },
    {
     "name": "stdout",
     "output_type": "stream",
     "text": [
      "\n"
     ]
    },
    {
     "data": {
      "image/png": "[encoded data removed]",
      "text/plain": [
       "<Figure size 432x288 with 1 Axes>"
      ]
     },
     "execution_count": 5,
     "metadata": {
      "image/png": {
       "height": 53,
       "width": 369
      },
      "needs_background": "light"
     },
     "output_type": "execute_result"
    },
    {
     "name": "stdout",
     "output_type": "stream",
     "text": [
      "\n"
     ]
    },
    {
     "data": {
      "image/png": "[encoded data removed]",
      "text/plain": [
       "<Figure size 432x288 with 1 Axes>"
      ]
     },
     "execution_count": 5,
     "metadata": {
      "image/png": {
       "height": 53,
       "width": 369
      },
      "needs_background": "light"
     },
     "output_type": "execute_result"
    },
    {
     "name": "stdout",
     "output_type": "stream",
     "text": [
      "\n"
     ]
    },
    {
     "data": {
      "image/png": "[encoded data removed]",
      "text/plain": [
       "<Figure size 432x288 with 1 Axes>"
      ]
     },
     "execution_count": 5,
     "metadata": {
      "image/png": {
       "height": 53,
       "width": 369
      },
      "needs_background": "light"
     },
     "output_type": "execute_result"
    },
    {
     "name": "stdout",
     "output_type": "stream",
     "text": [
      "\n",
      "After 100 steps:\n"
     ]
    },
    {
     "data": {
      "image/png": "[encoded data removed]",
      "text/plain": [
       "<Figure size 432x288 with 1 Axes>"
      ]
     },
     "execution_count": 5,
     "metadata": {
      "image/png": {
       "height": 53,
       "width": 369
      },
      "needs_background": "light"
     },
     "output_type": "execute_result"
    }
   ],
   "source": [
    "sim = TrafficSimulator(density=0.55, interactive=interactive)\n",
    "\n",
    "if interactive:\n",
    "    # Set up the interactive user interface.\n",
    "    import pycxsimulator\n",
    "    gui = pycxsimulator.GUI(parameterSetters=[sim.set_density])\n",
    "    gui.start(func=[sim.initialize, sim.draw, sim.step])\n",
    "\n",
    "else:\n",
    "    # Run the simulator for 100 steps and show some of the steps.\n",
    "    print('Initial state:')\n",
    "    sim.initialize()\n",
    "    sim.draw()\n",
    "\n",
    "    print('Next 5 states:')\n",
    "    for i in range(5):\n",
    "        sim.step()\n",
    "        sim.draw()\n",
    "        print('')\n",
    "\n",
    "    print('After 100 steps:')\n",
    "    for i in range(95):\n",
    "        sim.step()\n",
    "    sim.draw()\n"
   ]
  },
  {
   "cell_type": "markdown",
   "metadata": {},
   "source": [
    "### Next steps\n",
    "\n",
    "* You have now seen the results for a single run of the simulator.\n",
    "* Run the simulator multiple times, but using different settings of the density parameter.\n",
    "* **Question:** If each black square represents a car and each white square represents open road, how does the state after 100 steps depend on the density parameter setting?\n",
    "* Discuss with each other how the code works. In the next session you will be expected to write your own simulator of a cellular automaton, so make sure that you are comfortable with this Python implementation of a cellular automaton."
   ]
  },
  {
   "cell_type": "code",
   "execution_count": 3,
   "metadata": {},
   "outputs": [
    {
     "data": {
      "text/plain": [
       "array([ 6, 23, 25, 17, 37, 18, 13, 24, 28, 44, 21, 41, 29, 12, 30, 42,  9,\n",
       "       47, 26, 16,  1,  2,  5, 19, 31])"
      ]
     },
     "execution_count": 3,
     "metadata": {},
     "output_type": "execute_result"
    }
   ],
   "source": [
    "import numpy as np\n",
    "np.random.choice(\n",
    "            range(50),\n",
    "            size=int(round(0.5 * 50)),\n",
    "            replace=False)"
   ]
  },
  {
   "cell_type": "code",
   "execution_count": 23,
   "metadata": {},
   "outputs": [
    {
     "name": "stdout",
     "output_type": "stream",
     "text": [
      "[0. 0. 0. 0. 0. 0. 0. 0. 0. 0. 0. 0. 0. 0. 0. 0. 0. 0. 0. 0. 0. 0. 0. 0.\n",
      " 0. 0. 0. 0. 0. 0. 0. 0. 0. 0. 0. 0. 0. 0. 0. 0. 0. 0. 0. 0. 0. 0. 0. 0.\n",
      " 0. 0.]\n"
     ]
    }
   ],
   "source": [
    "a = np.zeros(50)\n",
    "a.fill(0)\n",
    "print(a)"
   ]
  },
  {
   "cell_type": "code",
   "execution_count": 20,
   "metadata": {},
   "outputs": [
    {
     "data": {
      "text/plain": [
       "numpy.float64"
      ]
     },
     "execution_count": 20,
     "metadata": {},
     "output_type": "execute_result"
    }
   ],
   "source": [
    "    type(np.zeros(50)[1])"
   ]
  },
  {
   "cell_type": "code",
   "execution_count": 21,
   "metadata": {},
   "outputs": [
    {
     "data": {
      "text/plain": [
       "numpy.float64"
      ]
     },
     "execution_count": 21,
     "metadata": {},
     "output_type": "execute_result"
    }
   ],
   "source": [
    "type(a[1])"
   ]
  },
  {
   "cell_type": "code",
   "execution_count": 26,
   "metadata": {},
   "outputs": [
    {
     "data": {
      "text/plain": [
       "numpy.ndarray"
      ]
     },
     "execution_count": 26,
     "metadata": {},
     "output_type": "execute_result"
    }
   ],
   "source": [
    "type(np.zeros(50))"
   ]
  },
  {
   "cell_type": "code",
   "execution_count": null,
   "metadata": {},
   "outputs": [],
   "source": []
  }
 ],
 "metadata": {
  "kernelspec": {
   "display_name": "Python 3",
   "language": "python",
   "name": "python3"
  },
  "language_info": {
   "codemirror_mode": {
    "name": "ipython",
    "version": 3
   },
   "file_extension": ".py",
   "mimetype": "text/x-python",
   "name": "python",
   "nbconvert_exporter": "python",
   "pygments_lexer": "ipython3",
   "version": "3.7.4"
  }
 },
 "nbformat": 4,
 "nbformat_minor": 1
}
