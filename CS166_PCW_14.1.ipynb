{
 "cells": [
  {
   "cell_type": "code",
   "execution_count": 8,
   "metadata": {},
   "outputs": [],
   "source": [
    "p_head = 0.4\n",
    "final = []\n",
    "import random as rd\n",
    "for _ in range(1000):\n",
    "    cap = 250\n",
    "    for i in range(20):\n",
    "        choice = 'head'\n",
    "        bet = cap*p_head\n",
    "        result = rd.random()\n",
    "        result = \"head\" if result <= p_head else 'tail'\n",
    "        cap += bet if choice == result else -bet\n",
    "        if cap < 0:\n",
    "            final.append(0)\n",
    "            break\n",
    "    final.append(cap)\n"
   ]
  },
  {
   "cell_type": "code",
   "execution_count": 10,
   "metadata": {},
   "outputs": [
    {
     "data": {
      "text/plain": [
       "(array([938.,  37.,   0.,  15.,   0.,   0.,   0.,   0.,   9.,   0.,   0.,\n",
       "          0.,   0.,   0.,   0.,   0.,   0.,   0.,   0.,   1.]),\n",
       " array([2.13275909e-02, 1.51232450e+02, 3.02443573e+02, 4.53654695e+02,\n",
       "        6.04865818e+02, 7.56076940e+02, 9.07288063e+02, 1.05849919e+03,\n",
       "        1.20971031e+03, 1.36092143e+03, 1.51213255e+03, 1.66334368e+03,\n",
       "        1.81455480e+03, 1.96576592e+03, 2.11697704e+03, 2.26818817e+03,\n",
       "        2.41939929e+03, 2.57061041e+03, 2.72182153e+03, 2.87303266e+03,\n",
       "        3.02424378e+03]),\n",
       " <a list of 20 Patch objects>)"
      ]
     },
     "execution_count": 10,
     "metadata": {},
     "output_type": "execute_result"
    },
    {
     "data": {
      "image/png": "[encoded data removed]",
      "text/plain": [
       "<Figure size 432x288 with 1 Axes>"
      ]
     },
     "metadata": {
      "needs_background": "light"
     },
     "output_type": "display_data"
    }
   ],
   "source": [
    "import matplotlib.pyplot as plt\n",
    "plt.hist(final, bins = 20)"
   ]
  },
  {
   "cell_type": "code",
   "execution_count": null,
   "metadata": {},
   "outputs": [],
   "source": []
  }
 ],
 "metadata": {
  "kernelspec": {
   "display_name": "Python 3",
   "language": "python",
   "name": "python3"
  },
  "language_info": {
   "codemirror_mode": {
    "name": "ipython",
    "version": 3
   },
   "file_extension": ".py",
   "mimetype": "text/x-python",
   "name": "python",
   "nbconvert_exporter": "python",
   "pygments_lexer": "ipython3",
   "version": "3.7.4"
  }
 },
 "nbformat": 4,
 "nbformat_minor": 2
}
