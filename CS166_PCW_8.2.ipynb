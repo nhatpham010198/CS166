{
 "cells": [
  {
   "cell_type": "code",
   "execution_count": 112,
   "metadata": {},
   "outputs": [],
   "source": [
    "def network(loop):\n",
    "    global list_node,loop\n",
    "    import random as rd\n",
    "    import networkx as nx\n",
    "    g = nx.erdos_renyi_graph(30, 0.05, directed=True, seed=123)\n",
    "    nodes = list(g.nodes())\n",
    "    rd_node = rd.choice(nodes)\n",
    "    \n",
    "    list_node = [rd_node]\n",
    "    for _ in range(loop):\n",
    "        if rd.random() < 0.8:\n",
    "            neighbor = list(g.neighbors(rd_node))\n",
    "            if len(neighbor)>0:\n",
    "                destination = rd.choice(neighbor)\n",
    "            else:\n",
    "                destination = rd.choice(nodes)\n",
    "        else:\n",
    "            destination = rd.choice(nodes)\n",
    "        rd_node = destination\n",
    "        list_node.append(rd_node)\n",
    "\n",
    "def importance(node):\n",
    "    global list_node,loop\n",
    "    import pandas as pd\n",
    "    import numpy as np\n",
    "\n",
    "    data = {'a': list_node}\n",
    "    df1=pd.DataFrame(data, columns=['a'])\n",
    "    if node in list_node:\n",
    "        return(df1.a.value_counts()[node]/loop)\n",
    "    else:\n",
    "        return(0)\n",
    "\n"
   ]
  },
  {
   "cell_type": "code",
   "execution_count": 119,
   "metadata": {},
   "outputs": [
    {
     "data": {
      "text/plain": [
       "0.02"
      ]
     },
     "execution_count": 119,
     "metadata": {},
     "output_type": "execute_result"
    }
   ],
   "source": [
    "network(1000)\n",
    "importance(24)"
   ]
  },
  {
   "cell_type": "code",
   "execution_count": null,
   "metadata": {},
   "outputs": [],
   "source": []
  }
 ],
 "metadata": {
  "kernelspec": {
   "display_name": "Python 3",
   "language": "python",
   "name": "python3"
  },
  "language_info": {
   "codemirror_mode": {
    "name": "ipython",
    "version": 3
   },
   "file_extension": ".py",
   "mimetype": "text/x-python",
   "name": "python",
   "nbconvert_exporter": "python",
   "pygments_lexer": "ipython3",
   "version": "3.7.4"
  }
 },
 "nbformat": 4,
 "nbformat_minor": 2
}
